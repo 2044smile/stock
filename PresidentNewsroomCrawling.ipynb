{
 "cells": [
  {
   "cell_type": "code",
   "execution_count": 91,
   "id": "bc85c2f4",
   "metadata": {},
   "outputs": [
    {
     "name": "stdout",
     "output_type": "stream",
     "text": [
      "__init__\n",
      "['https://www.president.go.kr/newsroom/fact/ndCQzWjq', 'https://www.president.go.kr/newsroom/fact/SsHyFqH1', 'https://www.president.go.kr/newsroom/fact/ZUgPX660', 'https://www.president.go.kr/newsroom/fact/hYdUZkDp', 'https://www.president.go.kr/newsroom/fact/lS0AWDSq']\n",
      "['교육과정서 의도적으로 5.18 민주화운동 삭제? → \"文정부 때 시안 마련\"2023.01.04\\'윤석열 정부가 교육과정에서 의도적으로 5.18 민주화운동을 삭제하였다\\'는 주장은 전혀 사실이 아닙니다.\\xa02022년 개정 교육과정에서 학습요소 항목이 생략되면서 5.18 민주화운동뿐 아니라 모든 개별적이고 구체적인 역사적 사건의 서술을 최소화하였습니다.\\xa0문재인 정부 때인 2021년 12월에 구성되어 역사과 교육과정을 개발한 정책연구진도 이러한 취지에서 구체적인 역사적 사건 서술을 축소했습니다. 그래서 연구진이 교육부에 제출한 개정 교육과정의 최초 시안부터 5.18 민주화운동은 포함되어 있지 않았습니다.\\xa0구체적 역사 사건명은 생략됐으나 현행 교육과정과 마찬가지로 2022년 개정 교육과정에서도 4.19 혁명에서 6월 민주항쟁에 이르는 민주화운동의 과정을 학습할 수 있도록 관련 성취 규정을 개발하고 있습니다.\\xa0• 1월 3일 오마이뉴스 <[단독] 윤석열 정부, 개정 교육과정에서 \\'5.18민주화운동\\' 삭제>에 대한 대통령실의 설명입니다. 목록https://www.president.go.kr/newsroom/fact/ndCQzWjq링크 ', '대통령 연하장, 해외 이미지 도용? → \"적법 계약 통해 K-문화 담아\"2022.12.30일부 언론의 연하장 디자인 도용 의혹 제기는 전혀 사실이 아닙니다.\\xa0새해 연하장은 역대 대통령의 연하장을 다수 제작한 경험이 있는 디자인 전문 업체에 의뢰해 진행하였습니다.\\xa0연하장에 활용된 \"디자인 이미지\"는 외국인 시각에서 우리나라 문화컨텐츠를 형상화한 것으로 해당 업체에서 적법한 라이센스 계약을 통해 구현한 것으로 알고 있습니다.\\xa0• 12월 29일 오마이뉴스 <대통령실 신년연하장 디자인, 셔터스톡 이미지 베꼈나>에 대한 대통령실의 설명입니다. 목록https://www.president.go.kr/newsroom/fact/SsHyFqH1링크 ', '\\'문재인 케어\\' 폐기는 국민에게 의료비 폭탄? → \"건강보험 재정 위기...지금 개혁 않으면 심각한 타격\"2022.12.14윤석열 정부 \\'건강보험 개편\\'에 대해 \\'정치 보복을 위해 아픈 국민의 치료비를 깎는 것\\'이라는 더불어민주당 의원들의 주장은 전혀 사실이 아닙니다.\\xa0\\'문재인 케어\\'가 시행된 지난 5년간 건강보험 재정은 위기를 맞았습니다. 2040년 누적적자가 678조에 이를 것으로 전망되고, 박근혜 정부 당시 0.99%에 불과했던 연평균 \\'보험료율 인상률\\'은 문재인 정부 동안 2.7%를 넘어섰습니다.\\xa0초음파와 MRI는 문재인 케어 적용 첫 해인 2018년 1,800억 원에서 지난해 1조8,000억 원으로 3년 새 10배나 급증했습니다.\\xa0\\'문재인 케어가 대다수 국민을 위해 보장성을 확대할 것\\'이라던 약속과 달리, 실제로는 외래진료 이용 횟수 상위 10명이 1년간 각 1,200~2,000회의 외래 진료를 받았습니다. 외국인 무임승차나 자격도용도 실효성 있게 막지 못했습니다.\\xa0민주당 의원들은 \\'김건희 여사의 코바나컨텐츠 대표 당시 직장가입자 건강보험료\\'를 언급하며 건강보험의 문제점을 감추려고 하나, 건강보험을 지금 개혁하지 않으면 국가 재정에 심각한 타격을 줄 것입니다.\\xa0김건희 여사는 코바나컨텐츠 대표이사 시절 직원들 월급을 주기 위해 대표이사 월급을 200만 원으로 낮췄고, 그에 맞춰 부과된 직장보험료를 성실히 납부했습니다.\\xa0• 12월 14일 뉴시스 <민주, \\'文케어=혈세낭비\\' 尹에 \"국민에게 의료비 폭탄 던진 것\">, 이데일리 <\"김건희 여사 건보료 7만원\"...野, \\'문재인 케어 폐기\\' 맹공>에 대한 대통령실의 설명입니다. 목록https://www.president.go.kr/newsroom/fact/ZUgPX660링크 ', '천공, 대통령 관저 결정에 개입? → \"어떠한 관여도 없어...가짜뉴스, 민주주의 근간 훼손\"2022.12.05대통령실은 \\'가짜뉴스\\'에 대해서 확고하고 일관된 원칙에 따라 대응하겠습니다.\\xa0김종대 전 정의당 의원이 \"지난 4월 대통령실 및 관저 이전 과정에서 천공이 경호처장과 함께 육군참모총장 공관을 미리 둘러봤고, 이후 대통령 관저가 한남동 외교공관으로 바뀌었다\"라는 \\'거짓 폭로\\'를 하였습니다.\\xa0\\xa0몇몇 매체는 객관적 검증을 전혀 하지 않은 채 \\'가짜 뉴스\\'와 \\'거짓 인터뷰\\' 내용을 그대로 내보냈습니다. \\xa0\\xa0경호처장은 \\'천공\\'과 일면식도 없을 뿐 아니라, \\'천공\\'이 육군참모총장 공관을 둘러본 사실 자체가 없습니다. \\xa0\\'천공\\'은 대통령실 이전 과정에 어떠한 형태로도 관여된 바가 전혀 없음을 분명히 밝힙니다.\\xa0야권 정치인들이 \\'청담동 술자리\\', \\'캄보디아 조명\\'에 이어 아무렇지도 않게 또다시 가짜 뉴스를 퍼뜨리는 것은 \\'민주주의\\'의 근간을 훼손하는 행위입니다. \\xa0\\xa0대통령실은 \\'가짜뉴스\\'에 대해서는 일관된 원칙에 따라 법적 책임을 물을 것입니다. 김종대 전 의원의 발언 철회 및 사과와 이를 그대로 받아 쓴 매체들의 기사 삭제를 강력히 요청합니다.\\xa0\\xa0• 12월 4일 미디어워치 등, 〈김종대 “대통령 관저 이전 때 천공 나타나”...변희재 \\'천공 배후설\\' 예언 적중〉에 대한 대통령실의 입장입니다.\\u200b\\xa0 목록https://www.president.go.kr/newsroom/fact/hYdUZkDp링크 ', '부산 엑스포 포기하고 사우디 수주? → \"전 세계 돌며 치열한 유치전... 국익 저해 발언 사과해야\"2022.11.30윤석열 대통령과 무함마드 빈 살만 사우디아라비아 왕세자와의 회담 관련 야당의 가짜뉴스에 대한 대통령실의 입장을 전해드립니다.\\xa0현재 한덕수 국무총리와 대통령실 미래전략기획관실이 전 세계를 돌며 2030부산세계박람회를 위한 치열한 유치전을 벌이고 있습니다.한 총리는 지난 29일 국제박람회기구(BIE) 총회에 참석해 170개 회원국 앞에서 첫 경쟁 프리젠테이션을 진행하며 부산이 최적의 개최지임을 호소하는 ‘부산 이니셔티브’를 선언했습니다. 또한 최태원 SK그룹 회장과 박형준 부산시장, 방문규 국무조정실장 등을 특사로 파견해 민관합동으로 부산 엑스포와 국익 관철을 위한 국가적 역량을 결집하고 있는 중입니다.이러한 마당에 야당은 대통령이 마치 무함마드 왕세자와 거래해 부산 엑스포 유치를 포기한 듯 마타도어를 퍼뜨리고 있습니다. 대한민국 청년들의 미래를 지켜줄 통상교역의 논의 자리를 저급한 가짜뉴스로 덧칠한 발언이자 공당의 언어라고는 믿기지 않는 수준 이하의 저질 공세입니다.다른 나라 정부까지 깎아내리고 모욕한 외교 결례와 국익을 저해한 자해 발언에 사과하지 않는다면 엄중한 조치를 취하겠습니다.\\xa0\\xa0\\xa0• 11월 29일 더불어민주당 지도부의 \\'허위 선동\\' 및 조선일보 등 <野, 또 음모론... “尹, 사우디 수주 얻고 엑스포 포기했단 의혹”>에 대한 김은혜 홍보수석의 서면 브리핑입니다.  목록https://www.president.go.kr/newsroom/fact/lS0AWDSq링크 ']\n",
      "교육과정서 의도적으로 5.18 민주화운동 삭제? → \"文정부 때 시안 마련\"2023.01.04'윤석열 정부가 교육과정에서 의도적으로 5.18 민주화운동을 삭제하였다'는 주장은 전혀 사실이 아닙니다. 2022년 개정 교육과정에서 학습요소 항목이 생략되면서 5.18 민주화운동뿐 아니라 모든 개별적이고 구체적인 역사적 사건의 서술을 최소화하였습니다. 문재인 정부 때인 2021년 12월에 구성되어 역사과 교육과정을 개발한 정책연구진도 이러한 취지에서 구체적인 역사적 사건 서술을 축소했습니다. 그래서 연구진이 교육부에 제출한 개정 교육과정의 최초 시안부터 5.18 민주화운동은 포함되어 있지 않았습니다. 구체적 역사 사건명은 생략됐으나 현행 교육과정과 마찬가지로 2022년 개정 교육과정에서도 4.19 혁명에서 6월 민주항쟁에 이르는 민주화운동의 과정을 학습할 수 있도록 관련 성취 규정을 개발하고 있습니다. • 1월 3일 오마이뉴스 <[단독] 윤석열 정부, 개정 교육과정에서 '5.18민주화운동' 삭제>에 대한 대통령실의 설명입니다. 목록https://www.president.go.kr/newsroom/fact/ndCQzWjq링크 \n"
     ]
    }
   ],
   "source": [
    "import re, os, requests\n",
    "os.environ.setdefault(\"DJANGO_SETTINGS_MODULE\", \"config.settings\")\n",
    "\n",
    "import django\n",
    "django.setup()\n",
    "\n",
    "from datetime import datetime\n",
    "from stock.models import PresidentFact\n",
    "\n",
    "from bs4 import BeautifulSoup\n",
    "\n",
    "\n",
    "class PresidentNewsroomCrawling:\n",
    "    def __init__(self):\n",
    "        print('__init__')\n",
    "        \n",
    "        self.link_url = []\n",
    "        \n",
    "        self.president_url = requests.get(url='https://www.president.go.kr')\n",
    "        self.president_newsroom_url = requests.get(url='https://www.president.go.kr/newsroom')\n",
    "        self.president_newsroom_fact_url = requests.get(url='https://www.president.go.kr/newsroom/fact/')\n",
    "        self.president_newsroom_briefing_url = requests.get(url='https://www.president.go.kr/newsroom/briefing/')\n",
    "        self.headers = {\"Content-Type\": \"application/json\"}\n",
    "        \n",
    "\n",
    "    def crawler(self, target):\n",
    "        if target == 'fact':\n",
    "            html = self.president_newsroom_fact_url\n",
    "            soup = BeautifulSoup(html.text, 'html.parser')\n",
    "            bs = soup.select(\n",
    "                \"body > div.container > div > section.fact > div > div > a\"\n",
    "            )\n",
    "            for b in bs:\n",
    "                self.link_url.append(self.president_url.url.rstrip('/') + b.get('href'))\n",
    "            \n",
    "            for url in self.link_url:\n",
    "                html = requests.get(url=url)\n",
    "                soup = BeautifulSoup(html.text, 'html.parser')\n",
    "                bs = soup.select(\n",
    "                    \"body > div.container > div > section.view_area\"\n",
    "                )\n",
    "\n",
    "                for b in bs:\n",
    "                    text = b.get_text().replace(\"\\n\", \"\").strip(\"복사확인\").replace(\"\\xa0\", \"\")\n",
    "                    \n",
    "                    match = re.search(r'\\d{4}.\\d{2}.\\d{2}', text)\n",
    "                    date = datetime.strptime(match.group(), '%Y.%m.%d')  # match.group() 2023.01.27 to datetime\n",
    "                    remove_dates = re.sub(r'\\d{4}.\\d{2}.\\d{2}', '', text)  # text 에서 날짜 제거\n",
    "\n",
    "                    get_info = remove_dates.split('→')\n",
    "\n",
    "                    get_title = get_info[0]\n",
    "                    get_description = get_info[1].split(\"목록\")[0]\n",
    "                    get_link = get_info[1].split(\"목록\")[0].split(\"링크\")[0]\n",
    "\n",
    "                    PresidentFact.objects.update_or_create(\n",
    "                        title=get_title,\n",
    "                        description=get_description,\n",
    "                        link=get_link,\n",
    "                        date=date\n",
    "                    )\n",
    "            \n",
    "        elif target == 'briefing':\n",
    "            html = self.president_newsroom_briefing_url\n",
    "        \n",
    "p = PresidentNewsroomCrawling()\n",
    "p.crawler('fact')"
   ]
  },
  {
   "cell_type": "code",
   "execution_count": null,
   "id": "829f88ac",
   "metadata": {},
   "outputs": [],
   "source": []
  },
  {
   "cell_type": "code",
   "execution_count": null,
   "id": "9a8cccb1",
   "metadata": {},
   "outputs": [],
   "source": []
  }
 ],
 "metadata": {
  "kernelspec": {
   "display_name": "venv",
   "language": "python",
   "name": "python3"
  },
  "language_info": {
   "codemirror_mode": {
    "name": "ipython",
    "version": 3
   },
   "file_extension": ".py",
   "mimetype": "text/x-python",
   "name": "python",
   "nbconvert_exporter": "python",
   "pygments_lexer": "ipython3",
   "version": "3.10.6 (main, Aug 30 2022, 04:58:14) [Clang 13.1.6 (clang-1316.0.21.2.5)]"
  },
  "vscode": {
   "interpreter": {
    "hash": "091d02c5a32807ea4a7cf9088453347a1f697e462256b5df8dd19c75c09942eb"
   }
  }
 },
 "nbformat": 4,
 "nbformat_minor": 5
}
