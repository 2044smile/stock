{
 "cells": [
  {
   "cell_type": "code",
   "execution_count": 3,
   "id": "bc85c2f4",
   "metadata": {},
   "outputs": [
    {
     "name": "stdout",
     "output_type": "stream",
     "text": [
      "__init__\n"
     ]
    },
    {
     "ename": "AttributeError",
     "evalue": "'str' object has no attribute 'text'",
     "output_type": "error",
     "traceback": [
      "\u001b[0;31m---------------------------------------------------------------------------\u001b[0m",
      "\u001b[0;31mAttributeError\u001b[0m                            Traceback (most recent call last)",
      "Cell \u001b[0;32mIn[3], line 30\u001b[0m\n\u001b[1;32m     27\u001b[0m         \u001b[38;5;28mprint\u001b[39m(bs)\n\u001b[1;32m     29\u001b[0m p \u001b[38;5;241m=\u001b[39m PresidentNewsroomCrawling()\n\u001b[0;32m---> 30\u001b[0m \u001b[43mp\u001b[49m\u001b[38;5;241;43m.\u001b[39;49m\u001b[43mcrawler\u001b[49m\u001b[43m(\u001b[49m\u001b[38;5;124;43m'\u001b[39;49m\u001b[38;5;124;43mfact\u001b[39;49m\u001b[38;5;124;43m'\u001b[39;49m\u001b[43m)\u001b[49m\n",
      "Cell \u001b[0;32mIn[3], line 22\u001b[0m, in \u001b[0;36mPresidentNewsroomCrawling.crawler\u001b[0;34m(self, target)\u001b[0m\n\u001b[1;32m     19\u001b[0m \u001b[38;5;28;01melif\u001b[39;00m target \u001b[38;5;241m==\u001b[39m \u001b[38;5;124m'\u001b[39m\u001b[38;5;124mbriefing\u001b[39m\u001b[38;5;124m'\u001b[39m:\n\u001b[1;32m     20\u001b[0m     html \u001b[38;5;241m=\u001b[39m \u001b[38;5;28mself\u001b[39m\u001b[38;5;241m.\u001b[39mpresident_newsroom_briefing_url\n\u001b[0;32m---> 22\u001b[0m soup \u001b[38;5;241m=\u001b[39m BeautifulSoup(\u001b[43mhtml\u001b[49m\u001b[38;5;241;43m.\u001b[39;49m\u001b[43mtext\u001b[49m, \u001b[38;5;124m'\u001b[39m\u001b[38;5;124mhtml.parser\u001b[39m\u001b[38;5;124m'\u001b[39m)\n\u001b[1;32m     23\u001b[0m bs \u001b[38;5;241m=\u001b[39m soup\u001b[38;5;241m.\u001b[39mselect(\n\u001b[1;32m     24\u001b[0m     \u001b[38;5;124m\"\u001b[39m\u001b[38;5;124mbody > div.container > div > section.briefing\u001b[39m\u001b[38;5;124m\"\u001b[39m\n\u001b[1;32m     25\u001b[0m )\n\u001b[1;32m     26\u001b[0m \u001b[38;5;28mprint\u001b[39m(soup)\n",
      "\u001b[0;31mAttributeError\u001b[0m: 'str' object has no attribute 'text'"
     ]
    }
   ],
   "source": [
    "import os, requests\n",
    "\n",
    "from bs4 import BeautifulSoup\n",
    "\n",
    "\n",
    "class PresidentNewsroomCrawling:\n",
    "    def __init__(self):\n",
    "        print('__init__')\n",
    "\n",
    "        self.president_newsroom_url = 'https://www.president.go.kr/newsroom'\n",
    "        self.president_newsroom_fact_url = 'https://www.president.go.kr/newsroom/fact/'\n",
    "        self.president_newsroom_briefing_url = 'https://www.president.go.kr/newsroom/briefing/'\n",
    "        self.headers = {\"Content-Type\": \"application/json\"}\n",
    "        \n",
    "\n",
    "    def crawler(self, target):\n",
    "        if target == 'fact':\n",
    "            html = self.president_newsroom_fact_url\n",
    "        elif target == 'briefing':\n",
    "            html = self.president_newsroom_briefing_url\n",
    "\n",
    "        soup = BeautifulSoup(html.text, 'html.parser')\n",
    "        bs = soup.select(\n",
    "            \"body > div.container > div > section.briefing\"\n",
    "        )\n",
    "        print(soup)\n",
    "        print(bs)\n",
    "        \n",
    "p = PresidentNewsroomCrawling()\n",
    "p.crawler('fact')"
   ]
  },
  {
   "cell_type": "code",
   "execution_count": null,
   "id": "829f88ac",
   "metadata": {},
   "outputs": [],
   "source": []
  },
  {
   "cell_type": "code",
   "execution_count": null,
   "id": "9a8cccb1",
   "metadata": {},
   "outputs": [],
   "source": []
  }
 ],
 "metadata": {
  "kernelspec": {
   "display_name": "Python 3 (ipykernel)",
   "language": "python",
   "name": "python3"
  },
  "language_info": {
   "codemirror_mode": {
    "name": "ipython",
    "version": 3
   },
   "file_extension": ".py",
   "mimetype": "text/x-python",
   "name": "python",
   "nbconvert_exporter": "python",
   "pygments_lexer": "ipython3",
   "version": "3.10.6"
  }
 },
 "nbformat": 4,
 "nbformat_minor": 5
}
