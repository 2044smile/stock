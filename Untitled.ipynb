{
 "cells": [
  {
   "cell_type": "code",
   "execution_count": 4,
   "id": "bc85c2f4",
   "metadata": {},
   "outputs": [
    {
     "name": "stdout",
     "output_type": "stream",
     "text": [
      "__init__\n",
      "https://www.president.go.kr/newsroom/fact/ndCQzWjq\n",
      "https://www.president.go.kr/newsroom/fact/SsHyFqH1\n",
      "https://www.president.go.kr/newsroom/fact/ZUgPX660\n",
      "https://www.president.go.kr/newsroom/fact/hYdUZkDp\n",
      "https://www.president.go.kr/newsroom/fact/lS0AWDSq\n"
     ]
    }
   ],
   "source": [
    "import os, requests\n",
    "\n",
    "from bs4 import BeautifulSoup\n",
    "\n",
    "\n",
    "class PresidentNewsroomCrawling:\n",
    "    def __init__(self):\n",
    "        print('__init__')\n",
    "        \n",
    "        self.link_url = []\n",
    "        \n",
    "        self.president_url = requests.get(url='https://www.president.go.kr')\n",
    "        self.president_newsroom_url = requests.get(url='https://www.president.go.kr/newsroom')\n",
    "        self.president_newsroom_fact_url = requests.get(url='https://www.president.go.kr/newsroom/fact/')\n",
    "        self.president_newsroom_briefing_url = requests.get(url='https://www.president.go.kr/newsroom/briefing/')\n",
    "        self.headers = {\"Content-Type\": \"application/json\"}\n",
    "        \n",
    "\n",
    "    def crawler(self, target):\n",
    "        if target == 'fact':\n",
    "            html = self.president_newsroom_fact_url\n",
    "        elif target == 'briefing':\n",
    "            html = self.president_newsroom_briefing_url\n",
    "\n",
    "        soup = BeautifulSoup(html.text, 'html.parser')\n",
    "        bs = soup.select(\n",
    "            \"body > div.container > div > section.fact > div > div > a\"\n",
    "        )\n",
    "        for b in bs:\n",
    "            self.link_url.append(self.president_url.url.rstrip('/') + b.get('href'))\n",
    "        \n",
    "        print(self.link_url)\n",
    "        \n",
    "p = PresidentNewsroomCrawling()\n",
    "p.crawler('fact')"
   ]
  },
  {
   "cell_type": "code",
   "execution_count": null,
   "id": "829f88ac",
   "metadata": {},
   "outputs": [],
   "source": []
  },
  {
   "cell_type": "code",
   "execution_count": null,
   "id": "9a8cccb1",
   "metadata": {},
   "outputs": [],
   "source": []
  }
 ],
 "metadata": {
  "kernelspec": {
   "display_name": "Python 3 (ipykernel)",
   "language": "python",
   "name": "python3"
  },
  "language_info": {
   "codemirror_mode": {
    "name": "ipython",
    "version": 3
   },
   "file_extension": ".py",
   "mimetype": "text/x-python",
   "name": "python",
   "nbconvert_exporter": "python",
   "pygments_lexer": "ipython3",
   "version": "3.10.6"
  }
 },
 "nbformat": 4,
 "nbformat_minor": 5
}
